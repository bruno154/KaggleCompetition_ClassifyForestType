{
 "cells": [
  {
   "cell_type": "code",
   "execution_count": 34,
   "metadata": {},
   "outputs": [],
   "source": [
    "import numpy as np\n",
    "import pandas as pd\n",
    "\n",
    "from lightgbm import LGBMClassifier\n",
    "from mlxtend.classifier import StackingCVClassifier\n",
    "from sklearn.ensemble import (AdaBoostClassifier, GradientBoostingClassifier, RandomForestClassifier)\n",
    "from sklearn.model_selection import cross_val_score, cross_val_predict\n",
    "from sklearn.tree import DecisionTreeClassifier\n",
    "from xgboost import XGBClassifier\n",
    "from sklearn.metrics import classification_report"
   ]
  },
  {
   "cell_type": "code",
   "execution_count": 37,
   "metadata": {},
   "outputs": [],
   "source": [
    "#Coleta de Dados\n",
    "train = pd.read_csv('train.csv')\n",
    "treino = train.drop('Id', axis=1)\n",
    "test = pd.read_csv('test.csv')\n",
    "\n",
    "#Split de variáveis\n",
    "X = treino.iloc[:,0:54]\n",
    "y = treino['Cover_Type']\n",
    "X_test = test.drop('Id', axis=1)\n",
    "\n",
    "#Mantendo as melhores variáveis\n",
    "X_new = X.loc[:,['Elevation', 'Horizontal_Distance_To_Roadways',\n",
    "                 'Horizontal_Distance_To_Fire_Points', 'Wilderness_Area4', 'Aspect',\n",
    "                 'Vertical_Distance_To_Hydrology',\n",
    "                 'Horizontal_Distance_To_Hydrology', 'Hillshade_9am',\n",
    "                 'Hillshade_3pm', 'Hillshade_Noon', 'Slope', 'Soil_Type2',\n",
    "                 'Soil_Type10']]\n",
    "\n",
    "y_new = y.copy()\n",
    "\n",
    "X_teste = teste.loc[:,['Elevation', 'Horizontal_Distance_To_Roadways',\n",
    "                 'Horizontal_Distance_To_Fire_Points', 'Wilderness_Area4', 'Aspect',\n",
    "                 'Vertical_Distance_To_Hydrology',\n",
    "                 'Horizontal_Distance_To_Hydrology', 'Hillshade_9am',\n",
    "                 'Hillshade_3pm', 'Hillshade_Noon', 'Slope', 'Soil_Type2',\n",
    "                 'Soil_Type10']]"
   ]
  },
  {
   "cell_type": "code",
   "execution_count": 23,
   "metadata": {},
   "outputs": [
    {
     "name": "stdout",
     "output_type": "stream",
     "text": [
      "> Iniciaizando Classificadores\n",
      "> Empilhando Classificadores\n",
      "Fitting 4 classifiers...\n",
      "Fitting classifier1: adaboostclassifier (1/4)\n"
     ]
    },
    {
     "name": "stderr",
     "output_type": "stream",
     "text": [
      "[Parallel(n_jobs=-1)]: Using backend LokyBackend with 4 concurrent workers.\n",
      "[Parallel(n_jobs=-1)]: Done   5 out of   5 | elapsed:  6.4min finished\n",
      "[Parallel(n_jobs=-1)]: Using backend LokyBackend with 4 concurrent workers.\n"
     ]
    },
    {
     "name": "stdout",
     "output_type": "stream",
     "text": [
      "Fitting classifier2: gradientboostingclassifier (2/4)\n"
     ]
    },
    {
     "name": "stderr",
     "output_type": "stream",
     "text": [
      "[Parallel(n_jobs=-1)]: Done   5 out of   5 | elapsed: 10.2min finished\n",
      "[Parallel(n_jobs=-1)]: Using backend LokyBackend with 4 concurrent workers.\n"
     ]
    },
    {
     "name": "stdout",
     "output_type": "stream",
     "text": [
      "Fitting classifier3: lgbmclassifier (3/4)\n"
     ]
    },
    {
     "name": "stderr",
     "output_type": "stream",
     "text": [
      "[Parallel(n_jobs=-1)]: Done   5 out of   5 | elapsed:  1.6min finished\n",
      "[Parallel(n_jobs=-1)]: Using backend LokyBackend with 4 concurrent workers.\n"
     ]
    },
    {
     "name": "stdout",
     "output_type": "stream",
     "text": [
      "Fitting classifier4: randomforestclassifier (4/4)\n"
     ]
    },
    {
     "name": "stderr",
     "output_type": "stream",
     "text": [
      "[Parallel(n_jobs=-1)]: Done   5 out of   5 | elapsed:   29.4s finished\n"
     ]
    },
    {
     "name": "stdout",
     "output_type": "stream",
     "text": [
      "> Criando submission file\n"
     ]
    }
   ],
   "source": [
    "stack_model = stack(X_new,y_new,X_test)"
   ]
  },
  {
   "cell_type": "code",
   "execution_count": 38,
   "metadata": {},
   "outputs": [],
   "source": [
    "\n",
    "def stack(X,y,X_test):\n",
    "\n",
    "    print('> Iniciaizando Classificadores')\n",
    "    n_jobs = -1  \n",
    "    random_state = 2\n",
    "\n",
    "    #ab_clf = AdaBoostClassifier(n_estimators=1000,\n",
    "                                #base_estimator=DecisionTreeClassifier(min_samples_leaf=4,min_samples_split =12, criterion = 'entropy',max_depth = 60,\n",
    "                                                                                        #min_impurity_decrease = 0.01,random_state=random_state),random_state=random_state)\n",
    "\n",
    "    #gb_clf = GradientBoostingClassifier(n_estimators=1000,min_samples_leaf=3,tol=0.1,verbose=0,random_state=random_state)\n",
    "    \n",
    "\n",
    "    lg_clf = LGBMClassifier(n_estimators=1200,num_leaves=50,learning_rate = 0.01, max_depth = 80, objective = 'multiclassova', \n",
    "                            verbosity=0,random_state=random_state,n_jobs=n_jobs)\n",
    "    \n",
    "\n",
    "    #class_weight = dict({1:3, 2:180, 3:3,4:1,5:1,6:3,7:1})\n",
    "    rf_clf = RandomForestClassifier(n_estimators=2000,min_samples_leaf=1,min_samples_split = 2, \n",
    "                                    max_features = 'sqrt', max_depth = 110, verbose=0,random_state=random_state, n_jobs=n_jobs)\n",
    "\n",
    "    xg_clf = xgb.XGBClassifier(subsample= 0.8,reg_lambda = 3.0,reg_alpha = 0.6,n_estimators = 2000, min_child_weight = 5,\n",
    "                        learning_rate = 0.1,gamma = 0.73,colsample_bytree = 1.0, three_method = 'exact', \n",
    "                        predictor= 'cpu_predictor', objective=\"multi:softprob\",verbosity=0,random_state=1,n_jobs=n_jobs)\n",
    "\n",
    "    \n",
    "     #('gb', gb_clf),('ab', ab_clf)\n",
    "    \n",
    "    ensemble = [('lg', lg_clf),\n",
    "                ('rf', rf_clf),\n",
    "                ('xg', xg_clf)]\n",
    "   \n",
    "    print('> Empilhando Classificadores')\n",
    "    \n",
    "    test_ids = test.index.copy()\n",
    "\n",
    "    stack = StackingCVClassifier(classifiers=[clf for label, clf in ensemble],\n",
    "                             meta_classifier=lg_clf,\n",
    "                             cv=5,\n",
    "                             use_probas=False,\n",
    "                             use_features_in_secondary=True,\n",
    "                             verbose=1,\n",
    "                             random_state=random_state,\n",
    "                             n_jobs=n_jobs)\n",
    "    \n",
    "    stack= stack.fit(X,y)\n",
    "\n",
    "    p_sub = stack.predict(X_teste)\n",
    "    sub = pd.DataFrame(p_sub, index = test['Id'], columns=['Cover_Type'])\n",
    "    print(sub.shape)\n",
    "\n",
    "    #Salvando em csv\n",
    "    sub.to_csv('submission.csv')\n",
    "    print('Arquivo salvo!')\n",
    "    return stack.meta_clf_"
   ]
  },
  {
   "cell_type": "code",
   "execution_count": null,
   "metadata": {},
   "outputs": [],
   "source": []
  }
 ],
 "metadata": {
  "kernelspec": {
   "display_name": "Python 3",
   "language": "python",
   "name": "python3"
  },
  "language_info": {
   "codemirror_mode": {
    "name": "ipython",
    "version": 3
   },
   "file_extension": ".py",
   "mimetype": "text/x-python",
   "name": "python",
   "nbconvert_exporter": "python",
   "pygments_lexer": "ipython3",
   "version": "3.7.3"
  }
 },
 "nbformat": 4,
 "nbformat_minor": 2
}
