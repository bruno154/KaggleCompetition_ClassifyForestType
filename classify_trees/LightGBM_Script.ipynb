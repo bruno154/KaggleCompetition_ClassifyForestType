{
 "cells": [
  {
   "cell_type": "code",
   "execution_count": 1,
   "metadata": {},
   "outputs": [
    {
     "name": "stdin",
     "output_type": "stream",
     "text": [
      "Por favor adicione o diretorio de trabalho? C:\\github\\Kaggle_Challenges\\Machine_Learning_Competitions\\data\n"
     ]
    }
   ],
   "source": [
    "#Importando Bibliotecas\n",
    "import pandas as pd\n",
    "import numpy as np\n",
    "import pickle\n",
    "import warnings\n",
    "import os\n",
    "warnings.filterwarnings(\"ignore\")\n",
    "\n",
    "#Visualization\n",
    "import seaborn as sns\n",
    "import matplotlib.pyplot as plt\n",
    "\n",
    "\n",
    "# Modelo\n",
    "import lightgbm as lgb\n",
    "\n",
    "from sklearn.model_selection import RepeatedKFold\n",
    "from sklearn.model_selection import RandomizedSearchCV,GridSearchCV\n",
    "from sklearn.model_selection import train_test_split\n",
    "\n",
    "#Avaliação do Modelo\n",
    "from sklearn.metrics import classification_report\n",
    "\n",
    "\n",
    "path = input('Por favor adicione o diretorio de trabalho?')\n",
    "for dirname, _, filename in os.walk(path, topdown = True):\n",
    "    for filename in filename:\n",
    "        if filename == 'test.csv':\n",
    "                teste = pd.read_csv(os.path.join(dirname,filename))\n",
    "        else:\n",
    "            if filename == 'train.csv':\n",
    "                treino = pd.read_csv(os.path.join(dirname,filename))\n",
    "            else:\n",
    "                print(\"Deu ruim irmão!!\")\n",
    "                \n",
    "X = treino.drop(['Cover_Type','Id','Unnamed: 0'],axis=1) \n",
    "y= treino.Cover_Type\n",
    "test_ids = teste['Id']\n",
    "teste.drop(['Id','Unnamed: 0'],axis=1,inplace = True)\n",
    "\n",
    "X_train, X_test, y_train, y_test = train_test_split(X, y, test_size=0.2, random_state=12)"
   ]
  },
  {
   "cell_type": "code",
   "execution_count": 2,
   "metadata": {},
   "outputs": [],
   "source": [
    "def LightBoost(X,y,n_iter):\n",
    "    \n",
    "    random_state=2\n",
    "    \n",
    "    learning_rate = [0.1,0.01,0.001]\n",
    "    boosting_type = ['gbdt', 'goss']\n",
    "    num_iterations = [int(x) for x in np.linspace(start = 200, stop = 2000, num = 10)] \n",
    "    objective = ['multiclass','multiclassova']\n",
    "    num_leaves= [int(x) for x in np.linspace(10, 70, num = 7)]\n",
    "    max_depth= [int(x) for x in np.linspace(10, 110, num = 11)]\n",
    "\n",
    "    \n",
    "    param = {'learning_rate': learning_rate,\n",
    "             'boosting_type': boosting_type,\n",
    "             'num_iterations':num_iterations,\n",
    "             'objective':objective,\n",
    "             'num_leaves':num_leaves,\n",
    "             'max_depth':max_depth}\n",
    "    \n",
    "    clf = lgb.LGBMClassifier(min_data= 50,sub_feature= 0.5, metric = 'multi_logloss')\n",
    "    clf_rcv= RandomizedSearchCV(estimator = clf, param_distributions = param, \n",
    "                                   n_iter = n_iter, cv = 5, verbose=1, random_state=random_state, \n",
    "                                   n_jobs = -1, scoring = {'NLL':'neg_log_loss', 'Accuracy':'accuracy'}, \n",
    "                                   refit='NLL')\n",
    "    clf_rcv.fit(X,y)\n",
    "    return clf_rcv.best_estimator_, clf_rcv.cv_results_, clf_rcv.best_params_ "
   ]
  },
  {
   "cell_type": "code",
   "execution_count": 3,
   "metadata": {},
   "outputs": [
    {
     "name": "stdout",
     "output_type": "stream",
     "text": [
      "Fitting 5 folds for each of 10 candidates, totalling 50 fits\n"
     ]
    },
    {
     "name": "stderr",
     "output_type": "stream",
     "text": [
      "[Parallel(n_jobs=-1)]: Using backend LokyBackend with 4 concurrent workers.\n",
      "[Parallel(n_jobs=-1)]: Done  42 tasks      | elapsed:  7.7min\n",
      "[Parallel(n_jobs=-1)]: Done  50 out of  50 | elapsed:  8.8min finished\n",
      "C:\\Users\\PC\\Anaconda3\\lib\\site-packages\\lightgbm\\engine.py:118: UserWarning: Found `num_iterations` in params. Will use it instead of argument\n",
      "  warnings.warn(\"Found `{}` in params. Will use it instead of argument\".format(alias))\n"
     ]
    }
   ],
   "source": [
    "lgbm_model, results, params1 = LightBoost(X_train,y_train,10)"
   ]
  },
  {
   "cell_type": "code",
   "execution_count": 5,
   "metadata": {},
   "outputs": [
    {
     "name": "stdout",
     "output_type": "stream",
     "text": [
      ">Salvando o modelo\n"
     ]
    }
   ],
   "source": [
    "#Salvando o modelo\n",
    "print('>Salvando o modelo')\n",
    "pickle.dump(lgbm_model,open('lgbm_model.sav', 'wb'))\n",
    "print('>Modelo Salvo')"
   ]
  },
  {
   "cell_type": "code",
   "execution_count": 6,
   "metadata": {},
   "outputs": [
    {
     "name": "stderr",
     "output_type": "stream",
     "text": [
      "C:\\Users\\PC\\Anaconda3\\lib\\site-packages\\lightgbm\\engine.py:118: UserWarning: Found `num_iterations` in params. Will use it instead of argument\n",
      "  warnings.warn(\"Found `{}` in params. Will use it instead of argument\".format(alias))\n",
      "C:\\Users\\PC\\Anaconda3\\lib\\site-packages\\lightgbm\\engine.py:118: UserWarning: Found `num_iterations` in params. Will use it instead of argument\n",
      "  warnings.warn(\"Found `{}` in params. Will use it instead of argument\".format(alias))\n",
      "C:\\Users\\PC\\Anaconda3\\lib\\site-packages\\lightgbm\\engine.py:118: UserWarning: Found `num_iterations` in params. Will use it instead of argument\n",
      "  warnings.warn(\"Found `{}` in params. Will use it instead of argument\".format(alias))\n",
      "C:\\Users\\PC\\Anaconda3\\lib\\site-packages\\lightgbm\\engine.py:118: UserWarning: Found `num_iterations` in params. Will use it instead of argument\n",
      "  warnings.warn(\"Found `{}` in params. Will use it instead of argument\".format(alias))\n",
      "C:\\Users\\PC\\Anaconda3\\lib\\site-packages\\lightgbm\\engine.py:118: UserWarning: Found `num_iterations` in params. Will use it instead of argument\n",
      "  warnings.warn(\"Found `{}` in params. Will use it instead of argument\".format(alias))\n",
      "C:\\Users\\PC\\Anaconda3\\lib\\site-packages\\lightgbm\\engine.py:118: UserWarning: Found `num_iterations` in params. Will use it instead of argument\n",
      "  warnings.warn(\"Found `{}` in params. Will use it instead of argument\".format(alias))\n",
      "C:\\Users\\PC\\Anaconda3\\lib\\site-packages\\lightgbm\\engine.py:118: UserWarning: Found `num_iterations` in params. Will use it instead of argument\n",
      "  warnings.warn(\"Found `{}` in params. Will use it instead of argument\".format(alias))\n",
      "C:\\Users\\PC\\Anaconda3\\lib\\site-packages\\lightgbm\\engine.py:118: UserWarning: Found `num_iterations` in params. Will use it instead of argument\n",
      "  warnings.warn(\"Found `{}` in params. Will use it instead of argument\".format(alias))\n",
      "C:\\Users\\PC\\Anaconda3\\lib\\site-packages\\lightgbm\\engine.py:118: UserWarning: Found `num_iterations` in params. Will use it instead of argument\n",
      "  warnings.warn(\"Found `{}` in params. Will use it instead of argument\".format(alias))\n",
      "C:\\Users\\PC\\Anaconda3\\lib\\site-packages\\lightgbm\\engine.py:118: UserWarning: Found `num_iterations` in params. Will use it instead of argument\n",
      "  warnings.warn(\"Found `{}` in params. Will use it instead of argument\".format(alias))\n",
      "C:\\Users\\PC\\Anaconda3\\lib\\site-packages\\lightgbm\\engine.py:118: UserWarning: Found `num_iterations` in params. Will use it instead of argument\n",
      "  warnings.warn(\"Found `{}` in params. Will use it instead of argument\".format(alias))\n",
      "C:\\Users\\PC\\Anaconda3\\lib\\site-packages\\lightgbm\\engine.py:118: UserWarning: Found `num_iterations` in params. Will use it instead of argument\n",
      "  warnings.warn(\"Found `{}` in params. Will use it instead of argument\".format(alias))\n",
      "C:\\Users\\PC\\Anaconda3\\lib\\site-packages\\lightgbm\\engine.py:118: UserWarning: Found `num_iterations` in params. Will use it instead of argument\n",
      "  warnings.warn(\"Found `{}` in params. Will use it instead of argument\".format(alias))\n",
      "C:\\Users\\PC\\Anaconda3\\lib\\site-packages\\lightgbm\\engine.py:118: UserWarning: Found `num_iterations` in params. Will use it instead of argument\n",
      "  warnings.warn(\"Found `{}` in params. Will use it instead of argument\".format(alias))\n",
      "C:\\Users\\PC\\Anaconda3\\lib\\site-packages\\lightgbm\\engine.py:118: UserWarning: Found `num_iterations` in params. Will use it instead of argument\n",
      "  warnings.warn(\"Found `{}` in params. Will use it instead of argument\".format(alias))\n",
      "C:\\Users\\PC\\Anaconda3\\lib\\site-packages\\lightgbm\\engine.py:118: UserWarning: Found `num_iterations` in params. Will use it instead of argument\n",
      "  warnings.warn(\"Found `{}` in params. Will use it instead of argument\".format(alias))\n",
      "C:\\Users\\PC\\Anaconda3\\lib\\site-packages\\lightgbm\\engine.py:118: UserWarning: Found `num_iterations` in params. Will use it instead of argument\n",
      "  warnings.warn(\"Found `{}` in params. Will use it instead of argument\".format(alias))\n",
      "C:\\Users\\PC\\Anaconda3\\lib\\site-packages\\lightgbm\\engine.py:118: UserWarning: Found `num_iterations` in params. Will use it instead of argument\n",
      "  warnings.warn(\"Found `{}` in params. Will use it instead of argument\".format(alias))\n",
      "C:\\Users\\PC\\Anaconda3\\lib\\site-packages\\lightgbm\\engine.py:118: UserWarning: Found `num_iterations` in params. Will use it instead of argument\n",
      "  warnings.warn(\"Found `{}` in params. Will use it instead of argument\".format(alias))\n",
      "C:\\Users\\PC\\Anaconda3\\lib\\site-packages\\lightgbm\\engine.py:118: UserWarning: Found `num_iterations` in params. Will use it instead of argument\n",
      "  warnings.warn(\"Found `{}` in params. Will use it instead of argument\".format(alias))\n"
     ]
    },
    {
     "name": "stdout",
     "output_type": "stream",
     "text": [
      "0.8303488756613756\n",
      "0.004219826477386384\n",
      "              precision    recall  f1-score   support\n",
      "\n",
      "           1       0.78      0.70      0.74       862\n",
      "           2       0.70      0.68      0.69       841\n",
      "           3       0.84      0.76      0.80       905\n",
      "           4       0.94      0.95      0.95       855\n",
      "           5       0.85      0.92      0.89       876\n",
      "           6       0.79      0.86      0.82       828\n",
      "           7       0.92      0.96      0.94       881\n",
      "\n",
      "    accuracy                           0.83      6048\n",
      "   macro avg       0.83      0.83      0.83      6048\n",
      "weighted avg       0.83      0.83      0.83      6048\n",
      "\n"
     ]
    }
   ],
   "source": [
    "# Validação Cruzada \n",
    "resultado_gbm = []\n",
    "kf = RepeatedKFold(n_splits = 2, n_repeats=10, random_state=1)\n",
    "\n",
    "for linhas_treino_gbm, linhas_valid_gbm in kf.split(X_train):\n",
    "\n",
    "    X_treino_gbm, X_valid_gbm = X_train.iloc[linhas_treino_gbm], X_train.iloc[linhas_valid_gbm]\n",
    "    y_treino_gbm, y_valid_gbm = y_train.iloc[linhas_treino_gbm], y_train.iloc[linhas_valid_gbm]\n",
    "    \n",
    "    \n",
    "    lgbm_model.fit(X_treino_gbm,y_treino_gbm)\n",
    "    p_gbm= lgbm_model.predict(X_valid_gbm)\n",
    "    acc_gbm = np.mean(y_valid_gbm==p_gbm)\n",
    "    resultado_gbm.append(acc_gbm)\n",
    "print(np.mean(resultado_gbm))\n",
    "print(np.std(resultado_gbm))\n",
    "print(classification_report(y_valid_gbm,p_gbm))"
   ]
  },
  {
   "cell_type": "code",
   "execution_count": null,
   "metadata": {},
   "outputs": [],
   "source": []
  }
 ],
 "metadata": {
  "kernelspec": {
   "display_name": "Python 3",
   "language": "python",
   "name": "python3"
  },
  "language_info": {
   "codemirror_mode": {
    "name": "ipython",
    "version": 3
   },
   "file_extension": ".py",
   "mimetype": "text/x-python",
   "name": "python",
   "nbconvert_exporter": "python",
   "pygments_lexer": "ipython3",
   "version": "3.7.3"
  }
 },
 "nbformat": 4,
 "nbformat_minor": 2
}
